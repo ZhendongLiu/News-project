{
 "cells": [
  {
   "cell_type": "code",
   "execution_count": 2,
   "id": "372525f1",
   "metadata": {},
   "outputs": [],
   "source": [
    "import tweepy as tw"
   ]
  },
  {
   "cell_type": "code",
   "execution_count": 3,
   "id": "9cc8e8ca",
   "metadata": {},
   "outputs": [],
   "source": [
    "consumer_key = '3zw18AYLJBxmRCzC3gzN02GSP'\n",
    "consumer_secret = 'ypRM5HD8vdW0WHq3j8gbYGnXw68GxCrED7QRqxYsHhvRRV54lZ'\n",
    "access_token = \"1133250449639915520-Uwmc9dRP9uSPooOetqdtCib7tlttWZ\"\n",
    "access_secret = 'CXiXO5KE89fypfJdSKpQXzS9OAXp6ijEkV50G2dwtOJcW'\n",
    "\n",
    "auth = tw.OAuthHandler(consumer_key, consumer_secret)\n",
    "auth.set_access_token(access_token, access_secret)\n",
    "api = tw.API(auth, wait_on_rate_limit=True)"
   ]
  },
  {
   "cell_type": "code",
   "execution_count": 48,
   "id": "6d73a8a8",
   "metadata": {},
   "outputs": [],
   "source": [
    "news_users = []\n",
    "\n",
    "for p in range(52):\n",
    "    news_users += api.search_users(\"news\", page = p)"
   ]
  },
  {
   "cell_type": "code",
   "execution_count": 166,
   "id": "e3d0e535",
   "metadata": {},
   "outputs": [
    {
     "data": {
      "text/plain": [
       "'https://t.co/4zUWrLAYqP'"
      ]
     },
     "execution_count": 166,
     "metadata": {},
     "output_type": "execute_result"
    }
   ],
   "source": [
    "#User useful info\n",
    "ex_user.verified\n",
    "ex_user.id\n",
    "ex_user.name\n",
    "ex_user.screen_name\n",
    "ex_user.location\n",
    "ex_user.description\n",
    "ex_user."
   ]
  },
  {
   "cell_type": "code",
   "execution_count": 45,
   "id": "3a799dc5",
   "metadata": {},
   "outputs": [],
   "source": [
    "usernames = [user.screen_name for user in news_users]"
   ]
  },
  {
   "cell_type": "code",
   "execution_count": 47,
   "id": "9b4373b9",
   "metadata": {},
   "outputs": [
    {
     "data": {
      "text/plain": [
       "False"
      ]
     },
     "execution_count": 47,
     "metadata": {},
     "output_type": "execute_result"
    }
   ],
   "source": [
    "'economics' in usernames"
   ]
  },
  {
   "cell_type": "code",
   "execution_count": 144,
   "id": "47606f79",
   "metadata": {},
   "outputs": [],
   "source": [
    "def determine_tweet_type(tweet):\n",
    "    # Check for reply indicator first\n",
    "    if tweet[\"in_reply_to_status_id\"] is not None:\n",
    "        tweet_type = \"Reply Tweet\"\n",
    "    # Check boolean quote status field but make sure it's not a Retweet (of a Quote Tweet) \n",
    "    elif tweet[\"is_quote_status\"] is True and not tweet[\"text\"].startswith(\"RT\"):\n",
    "        tweet_type = \"Quote Tweet\"\n",
    "    # Check both indicators of a Retweet\n",
    "    elif tweet[\"text\"].startswith(\"RT\") and tweet.get(\"retweeted_status\") is not None:\n",
    "        tweet_type = \"Retweet\"\n",
    "    else:\n",
    "        tweet_type = \"Original Tweet\"\n",
    "    return tweet_type "
   ]
  },
  {
   "cell_type": "code",
   "execution_count": 180,
   "id": "f20f34e9",
   "metadata": {},
   "outputs": [],
   "source": [
    "def credible_source(user):\n",
    "    \n",
    "    if not user.description:\n",
    "        return False\n",
    "    \n",
    "    if 'news' in user.description or 'coverage' in user.description:\n",
    "        return True\n",
    "    \n",
    "    else:\n",
    "        return False"
   ]
  },
  {
   "cell_type": "code",
   "execution_count": 182,
   "id": "bd4bdc74",
   "metadata": {},
   "outputs": [],
   "source": [
    "def parse_tweets(status):\n",
    "    \n",
    "    parsedTweets = []\n",
    "    \n",
    "    for tweet in status:\n",
    "        \n",
    "        if not credible_source(tweet.user):\n",
    "            continue\n",
    "        \n",
    "        if determine_tweet_type(tweet._json) == 'Retweet':\n",
    "            if 'extended_tweet' in tweet._json['retweeted_status']:\n",
    "                full_text = tweet._json['retweeted_status']['extended_tweet']['full_text']\n",
    "            else:\n",
    "                full_text = tweet._json['retweeted_status']['text']\n",
    "               \n",
    "        elif determine_tweet_type(tweet._json) == 'Quote Tweet':\n",
    "            if 'extended_tweet' in tweet._json['quoted_status']:\n",
    "                full_text = tweet._json['quoted_status']['extended_tweet']['full_text']\n",
    "            else:\n",
    "                full_text = tweet._json['quoted_status']['text']\n",
    "                \n",
    "        else:\n",
    "            if 'extended_tweet' in tweet._json:\n",
    "                full_text = tweet._json['extended_tweet']['full_text']\n",
    "            else:\n",
    "                full_text = tweet._json['text']\n",
    "        \n",
    "        mydict = { \"verified account\": tweet.user.verified,\n",
    "                   \"account\": tweet.user.screen_name,\n",
    "                   \"tweet_id\": tweet._json[\"id_str\"],\n",
    "                   \"date\":tweet._json[\"created_at\"],\n",
    "                   \"full_text\": full_text,\n",
    "                   \"tweet_type\": determine_tweet_type(tweet._json),\n",
    "                   \"hyperlink\": \"https://twitter.com/twitter/status/\" + tweet._json[\"id_str\"]\n",
    "              }\n",
    "        parsedTweets.append(mydict) # Add Tweet to parsedTweets list\n",
    "    return parsedTweets"
   ]
  },
  {
   "cell_type": "code",
   "execution_count": 183,
   "id": "01c0182b",
   "metadata": {},
   "outputs": [],
   "source": [
    "retrieved = []\n",
    "try:\n",
    "    for page in tw.Cursor(api.search_30_day,label='GupiaoDev', \n",
    "                          query=\"oil OR refinery\",\n",
    "                          fromDate='202206170000').pages():\n",
    "        retrieved += parse_tweets(page)\n",
    "except:\n",
    "    pass"
   ]
  },
  {
   "cell_type": "code",
   "execution_count": 186,
   "id": "e33adbc5",
   "metadata": {},
   "outputs": [
    {
     "data": {
      "text/plain": [
       "[{'verified account': False,\n",
       "  'account': 'kevinmuir',\n",
       "  'tweet_id': '1540490993765687298',\n",
       "  'date': 'Sat Jun 25 00:24:08 +0000 2022',\n",
       "  'full_text': '@agnostoxxx Jokes on him, all my blue-chip oil equities have &lt;3% dividend yields https://t.co/KlDDDJMbcH',\n",
       "  'tweet_type': 'Retweet',\n",
       "  'hyperlink': 'https://twitter.com/twitter/status/1540490993765687298'},\n",
       " {'verified account': False,\n",
       "  'account': 'TTTMediaXR',\n",
       "  'tweet_id': '1540490964342554630',\n",
       "  'date': 'Sat Jun 25 00:24:01 +0000 2022',\n",
       "  'full_text': 'Knowing what we know about #climate breakdown, this is nothing less than criminally insane.\\n\\n@XRebellionUK @ScientistsX @parents_4future @parents4future @fossiltreaty @JustStop_Oil @InsulateLove @ScientistRebel1  @MichaelEMann @DrJamesEHansen \\n\\nhttps://t.co/LOLZHnjUDL',\n",
       "  'tweet_type': 'Retweet',\n",
       "  'hyperlink': 'https://twitter.com/twitter/status/1540490964342554630'},\n",
       " {'verified account': False,\n",
       "  'account': 'pac_advocate',\n",
       "  'tweet_id': '1540490801431855104',\n",
       "  'date': 'Sat Jun 25 00:23:22 +0000 2022',\n",
       "  'full_text': 'In a little over a week, Papua New Guinea will vote for their next government. Elections have not been a pretty affair in the nation. https://t.co/cjkpEmc9S8 #PNG #election #PacificOcean #pacific',\n",
       "  'tweet_type': 'Original Tweet',\n",
       "  'hyperlink': 'https://twitter.com/twitter/status/1540490801431855104'},\n",
       " {'verified account': False,\n",
       "  'account': 'kab_fair',\n",
       "  'tweet_id': '1540490780040634368',\n",
       "  'date': 'Sat Jun 25 00:23:17 +0000 2022',\n",
       "  'full_text': '@tomeblen @RonFilipkowski they don’t need a plan as the oil industry will immediately drop prices which will have a positive ripple effect through the economy, the industry uses gas prices to influence elections, to prove it check out gas prices in 11/20 or when oil was at the same barrel price as today',\n",
       "  'tweet_type': 'Reply Tweet',\n",
       "  'hyperlink': 'https://twitter.com/twitter/status/1540490780040634368'},\n",
       " {'verified account': False,\n",
       "  'account': 'cartoon_pi',\n",
       "  'tweet_id': '1540490425865482240',\n",
       "  'date': 'Sat Jun 25 00:21:53 +0000 2022',\n",
       "  'full_text': 'Biggie 8x10 oil on panel \\n#rapartist #hiphop #HipHopMusic #HipHopCulture #impressionism #contemporaryart #abstractexpressionism https://t.co/t6ekfMkktr',\n",
       "  'tweet_type': 'Retweet',\n",
       "  'hyperlink': 'https://twitter.com/twitter/status/1540490425865482240'},\n",
       " {'verified account': False,\n",
       "  'account': 'allindiatweet',\n",
       "  'tweet_id': '1540490024050892800',\n",
       "  'date': 'Sat Jun 25 00:20:17 +0000 2022',\n",
       "  'full_text': 'West buys 60-70% of #Russian gas and oil, but blame #India 12% and #China 20%. https://t.co/Dehww5gu9n',\n",
       "  'tweet_type': 'Retweet',\n",
       "  'hyperlink': 'https://twitter.com/twitter/status/1540490024050892800'},\n",
       " {'verified account': False,\n",
       "  'account': 'jentaw1',\n",
       "  'tweet_id': '1540489944161914880',\n",
       "  'date': 'Sat Jun 25 00:19:58 +0000 2022',\n",
       "  'full_text': 'https://t.co/wkeFncSCPs',\n",
       "  'tweet_type': 'Original Tweet',\n",
       "  'hyperlink': 'https://twitter.com/twitter/status/1540489944161914880'},\n",
       " {'verified account': False,\n",
       "  'account': 'FantasticMasks',\n",
       "  'tweet_id': '1540489556788649984',\n",
       "  'date': 'Sat Jun 25 00:18:25 +0000 2022',\n",
       "  'full_text': 'A massive fire broke out on June 22 at the Novoshakhtinsk Oil Refinery in Rostov Oblast in what appeared to be a drone attack.\\nhttps://t.co/vmzrsD9Y5n',\n",
       "  'tweet_type': 'Retweet',\n",
       "  'hyperlink': 'https://twitter.com/twitter/status/1540489556788649984'},\n",
       " {'verified account': False,\n",
       "  'account': 'cartoon_pi',\n",
       "  'tweet_id': '1540489506130132993',\n",
       "  'date': 'Sat Jun 25 00:18:13 +0000 2022',\n",
       "  'full_text': 'Yellow Flowers\\n12 X 16 \\nOil on Stretched Canvas\\n\\n#oilpainting #impressionism #fridaymorning #artistsontwitter #oilpainter #impasto #artwork #artcollector  #flowers https://t.co/6ZNzf4zPon',\n",
       "  'tweet_type': 'Retweet',\n",
       "  'hyperlink': 'https://twitter.com/twitter/status/1540489506130132993'},\n",
       " {'verified account': False,\n",
       "  'account': 'PhilDeCarolis',\n",
       "  'tweet_id': '1540489209646964736',\n",
       "  'date': 'Sat Jun 25 00:17:03 +0000 2022',\n",
       "  'full_text': 'Roadway Congestion Returns To China, Signals Tighter Global Oil Supplies\\xa0 https://t.co/2C3CtiHZsm',\n",
       "  'tweet_type': 'Retweet',\n",
       "  'hyperlink': 'https://twitter.com/twitter/status/1540489209646964736'},\n",
       " {'verified account': False,\n",
       "  'account': 'OilMonster',\n",
       "  'tweet_id': '1540488920068198403',\n",
       "  'date': 'Sat Jun 25 00:15:54 +0000 2022',\n",
       "  'full_text': '#crudeoil\\xa0 President Biden is taking baby steps in his effort to lower oil and gasoline prices: Calling for a gas-tax holiday that will probably never happen. Sending “stern messages” to U.S. oil and gas producers. Releasing oil from the strategic re...  https://t.co/T4bl7fp7AA',\n",
       "  'tweet_type': 'Original Tweet',\n",
       "  'hyperlink': 'https://twitter.com/twitter/status/1540488920068198403'},\n",
       " {'verified account': True,\n",
       "  'account': 'PGSportsNow',\n",
       "  'tweet_id': '1540488705240141824',\n",
       "  'date': 'Sat Jun 25 00:15:02 +0000 2022',\n",
       "  'full_text': \"ICYMI: 'This is just home:' High Point National motocross race celebrates history with 45th running https://t.co/R46rF85T86\",\n",
       "  'tweet_type': 'Original Tweet',\n",
       "  'hyperlink': 'https://twitter.com/twitter/status/1540488705240141824'},\n",
       " {'verified account': False,\n",
       "  'account': 'dnewsjunction',\n",
       "  'tweet_id': '1540487912906805251',\n",
       "  'date': 'Sat Jun 25 00:11:53 +0000 2022',\n",
       "  'full_text': 'Energy stocks continue lower as oil posts weekly loss\\xa0(NYSEARCA:XLE) https://t.co/iOUd33cXMU',\n",
       "  'tweet_type': 'Original Tweet',\n",
       "  'hyperlink': 'https://twitter.com/twitter/status/1540487912906805251'},\n",
       " {'verified account': False,\n",
       "  'account': 'currant_news',\n",
       "  'tweet_id': '1540487648732758018',\n",
       "  'date': 'Sat Jun 25 00:10:50 +0000 2022',\n",
       "  'full_text': 'For Shell, AI and data are as critical as\\xa0oil https://t.co/f3334wPsJe',\n",
       "  'tweet_type': 'Original Tweet',\n",
       "  'hyperlink': 'https://twitter.com/twitter/status/1540487648732758018'},\n",
       " {'verified account': False,\n",
       "  'account': 'OGCryptoinfo',\n",
       "  'tweet_id': '1540487496496254976',\n",
       "  'date': 'Sat Jun 25 00:10:14 +0000 2022',\n",
       "  'full_text': 'REMINDER: The world runs on oil and coal. You cannot destroy oil and coal without destroying the world that runs on them.',\n",
       "  'tweet_type': 'Retweet',\n",
       "  'hyperlink': 'https://twitter.com/twitter/status/1540487496496254976'},\n",
       " {'verified account': True,\n",
       "  'account': 'CommSec',\n",
       "  'tweet_id': '1540487184276459520',\n",
       "  'date': 'Sat Jun 25 00:09:00 +0000 2022',\n",
       "  'full_text': '[PODCAST] Investment Insights: #CBA Director Mining and Energy Economist, Vivek Dhar discusses his upgraded price outlook for oil, coal &amp; gas over the shorter to medium term.\\nListen now on iOS: https://t.co/DX3PCMAHS3 or Android: https://t.co/7BryMcDd63 https://t.co/UCSCUGzi69',\n",
       "  'tweet_type': 'Original Tweet',\n",
       "  'hyperlink': 'https://twitter.com/twitter/status/1540487184276459520'},\n",
       " {'verified account': False,\n",
       "  'account': 'AristonTfs',\n",
       "  'tweet_id': '1540486933364760576',\n",
       "  'date': 'Sat Jun 25 00:08:00 +0000 2022',\n",
       "  'full_text': '#LucasDirt - Heat 6 Lucas Oil (Results): 1-Winger.A 2-Garvin.J(Jr) 3-Hughes.S 4-Troutman.D 5-Bloomquist.S 6-Collins.T 7-Stone.D 8-Vance.T 9-Little.B',\n",
       "  'tweet_type': 'Retweet',\n",
       "  'hyperlink': 'https://twitter.com/twitter/status/1540486933364760576'},\n",
       " {'verified account': False,\n",
       "  'account': 'simplybotansoap',\n",
       "  'tweet_id': '1540486674681139201',\n",
       "  'date': 'Sat Jun 25 00:06:58 +0000 2022',\n",
       "  'full_text': '‘Silence before the Storm’ 1906 by Hans Thoma  German (1839-1924 Oil on Canvas.  \\nI hope we are home to get the promise storm.  I’ve just melted!  It is very silent in this painting  too. https://t.co/WRny3WDOlP',\n",
       "  'tweet_type': 'Retweet',\n",
       "  'hyperlink': 'https://twitter.com/twitter/status/1540486674681139201'},\n",
       " {'verified account': True,\n",
       "  'account': 'maalaimalar',\n",
       "  'tweet_id': '1540486621149241345',\n",
       "  'date': 'Sat Jun 25 00:06:45 +0000 2022',\n",
       "  'full_text': 'பாகிஸ்தானுடன் கச்சா எண்ணெய் ஒப்பந்தம்- ரஷிய தூதர் மறுப்பு\\nhttps://t.co/G9eaZGqlS2\\n#Russia #Pakistan #oildeal #maalaimalar',\n",
       "  'tweet_type': 'Original Tweet',\n",
       "  'hyperlink': 'https://twitter.com/twitter/status/1540486621149241345'},\n",
       " {'verified account': False,\n",
       "  'account': 'QuintinOnCamera',\n",
       "  'tweet_id': '1540486417658281986',\n",
       "  'date': 'Sat Jun 25 00:05:57 +0000 2022',\n",
       "  'full_text': 'Tonite:\\n\\nANOINT YOUR HANDS WITH OIL, lay them on yourself and say:\\n\\nI am healed\\nI am whole\\nJesus gives me peace\\nChrist gives me clarity\\nNo weapon formed against me shall prosper; every slandering tongue will be condemned\\nI am protected by angels\\nI am under the Blood\\nIN JESUS NAME',\n",
       "  'tweet_type': 'Retweet',\n",
       "  'hyperlink': 'https://twitter.com/twitter/status/1540486417658281986'},\n",
       " {'verified account': False,\n",
       "  'account': 'ShipandBunker',\n",
       "  'tweet_id': '1540486186627653633',\n",
       "  'date': 'Sat Jun 25 00:05:02 +0000 2022',\n",
       "  'full_text': 'Crude Oil Prices to Remain in $90-130/bl Band: Kayrros https://t.co/pdfQ66L9Hd',\n",
       "  'tweet_type': 'Original Tweet',\n",
       "  'hyperlink': 'https://twitter.com/twitter/status/1540486186627653633'},\n",
       " {'verified account': False,\n",
       "  'account': 'Sawyemeritt',\n",
       "  'tweet_id': '1540485442163703808',\n",
       "  'date': 'Sat Jun 25 00:02:04 +0000 2022',\n",
       "  'full_text': 'Bloomberg estimates the size of the electric vehicle market opportunity between today and 2050 in the Economic Transition Scenario at $53 Trillion. Peak year for road transport oil demand will be 2027. https://t.co/TmJIdEW2oQ',\n",
       "  'tweet_type': 'Original Tweet',\n",
       "  'hyperlink': 'https://twitter.com/twitter/status/1540485442163703808'},\n",
       " {'verified account': False,\n",
       "  'account': 'Sawyemeritt',\n",
       "  'tweet_id': '1540485395804090369',\n",
       "  'date': 'Sat Jun 25 00:01:53 +0000 2022',\n",
       "  'full_text': 'According to Bloomberg, EVs of all types are already displacing 1.5 million barrels per day of oil usage, equivalent to about 3% of total road fuel demand. https://t.co/UoFZiGs42O',\n",
       "  'tweet_type': 'Original Tweet',\n",
       "  'hyperlink': 'https://twitter.com/twitter/status/1540485395804090369'},\n",
       " {'verified account': False,\n",
       "  'account': 'DisneyNews20',\n",
       "  'tweet_id': '1540485357275590657',\n",
       "  'date': 'Sat Jun 25 00:01:44 +0000 2022',\n",
       "  'full_text': 'Energy stocks continue lower as oil posts weekly loss\\xa0(NYSEARCA:XLE) https://t.co/jKNYAt6vGb',\n",
       "  'tweet_type': 'Original Tweet',\n",
       "  'hyperlink': 'https://twitter.com/twitter/status/1540485357275590657'},\n",
       " {'verified account': False,\n",
       "  'account': 'ecobearwitness',\n",
       "  'tweet_id': '1540485217260974082',\n",
       "  'date': 'Sat Jun 25 00:01:11 +0000 2022',\n",
       "  'full_text': \"Amid Ukraine war, Russia becomes China's main source of oil: Firstpost https://t.co/yvkUI1kMaQ \\n\\nMORE w/ EcoSearch: https://t.co/KEuvU70yqL\",\n",
       "  'tweet_type': 'Original Tweet',\n",
       "  'hyperlink': 'https://twitter.com/twitter/status/1540485217260974082'},\n",
       " {'verified account': False,\n",
       "  'account': 'LoopNewsTT',\n",
       "  'tweet_id': '1540485147929223168',\n",
       "  'date': 'Sat Jun 25 00:00:54 +0000 2022',\n",
       "  'full_text': 'What food items have you been paying more for? https://t.co/cQN8Xszuzt',\n",
       "  'tweet_type': 'Original Tweet',\n",
       "  'hyperlink': 'https://twitter.com/twitter/status/1540485147929223168'},\n",
       " {'verified account': False,\n",
       "  'account': 'WtiOil',\n",
       "  'tweet_id': '1540484955465211904',\n",
       "  'date': 'Sat Jun 25 00:00:08 +0000 2022',\n",
       "  'full_text': \"🛢 Today's Crude Oil Prices:\\r📉 WTI: $107.1 (-0.26)\\r📈 Brent: $113.19 (+0.28)\\r⏱️ 08:00:08 PM EST\\r#saudi #pipeline #today\",\n",
       "  'tweet_type': 'Original Tweet',\n",
       "  'hyperlink': 'https://twitter.com/twitter/status/1540484955465211904'},\n",
       " {'verified account': False,\n",
       "  'account': 'Bobe_bot',\n",
       "  'tweet_id': '1540484932837036032',\n",
       "  'date': 'Sat Jun 25 00:00:03 +0000 2022',\n",
       "  'full_text': 'For Shell, AI and data is as critical as oil (https://t.co/fsHfp5uz19) https://t.co/w1piMbZ4xW',\n",
       "  'tweet_type': 'Original Tweet',\n",
       "  'hyperlink': 'https://twitter.com/twitter/status/1540484932837036032'},\n",
       " {'verified account': False,\n",
       "  'account': 'ManchurianDevil',\n",
       "  'tweet_id': '1540484609124827140',\n",
       "  'date': 'Fri Jun 24 23:58:46 +0000 2022',\n",
       "  'full_text': 'Migration, food and especially gas blackmail — RF’s attempt to tell the West: \"Do not stop us from killing Ukrainians and destroying their cities, and you won’t have problems with oil and tariffs\". Primitive and cynical \"🇷🇺 practice\". I am confident that Europe understands this.',\n",
       "  'tweet_type': 'Retweet',\n",
       "  'hyperlink': 'https://twitter.com/twitter/status/1540484609124827140'},\n",
       " {'verified account': False,\n",
       "  'account': 'TheDegenWeekly',\n",
       "  'tweet_id': '1540484567013933064',\n",
       "  'date': 'Fri Jun 24 23:58:36 +0000 2022',\n",
       "  'full_text': 'Never met the guy, but big fan of Myles Straw. Seems like someone who’d change your oil for free',\n",
       "  'tweet_type': 'Original Tweet',\n",
       "  'hyperlink': 'https://twitter.com/twitter/status/1540484567013933064'},\n",
       " {'verified account': False,\n",
       "  'account': 'bobbywmurray',\n",
       "  'tweet_id': '1540484255544918016',\n",
       "  'date': 'Fri Jun 24 23:57:21 +0000 2022',\n",
       "  'full_text': 'Avery Hayes converts on the power play and the @BulldogsOHL strike first 🚨\\n\\nBulldogs vs. Oil Kings LIVE NOW on TSN 1/5, TSN Direct, and the TSN app. \\n\\n#MemorialCup https://t.co/INFYacQ3FA',\n",
       "  'tweet_type': 'Retweet',\n",
       "  'hyperlink': 'https://twitter.com/twitter/status/1540484255544918016'},\n",
       " {'verified account': False,\n",
       "  'account': 'HubbStock',\n",
       "  'tweet_id': '1540484208790994949',\n",
       "  'date': 'Fri Jun 24 23:57:10 +0000 2022',\n",
       "  'full_text': 'The Prime Oil Shares To Purchase Proper Now in 2022 GOBankingRates https://t.co/mCAybTlCTa',\n",
       "  'tweet_type': 'Original Tweet',\n",
       "  'hyperlink': 'https://twitter.com/twitter/status/1540484208790994949'},\n",
       " {'verified account': False,\n",
       "  'account': 'HygoNews',\n",
       "  'tweet_id': '1540483882620899328',\n",
       "  'date': 'Fri Jun 24 23:55:53 +0000 2022',\n",
       "  'full_text': \"Record Oil Production under Biden is “Political Wordle!”. Donalds: Madam Chair, You Can Bang the Gavel All You Want- I Don't Care. 6/24/2022\\nFacebook US registered user community: https://t.co/XKa3BbjzvQ\\n\\nyoutube: https://t.co/fp9UPS4re5\",\n",
       "  'tweet_type': 'Original Tweet',\n",
       "  'hyperlink': 'https://twitter.com/twitter/status/1540483882620899328'},\n",
       " {'verified account': False,\n",
       "  'account': 'DavidLe76335983',\n",
       "  'tweet_id': '1540483327575982080',\n",
       "  'date': 'Fri Jun 24 23:53:40 +0000 2022',\n",
       "  'full_text': 'West buys 60-70% of #Russian gas and oil, but blame #India 12% and #China 20%. https://t.co/Dehww5gu9n',\n",
       "  'tweet_type': 'Retweet',\n",
       "  'hyperlink': 'https://twitter.com/twitter/status/1540483327575982080'},\n",
       " {'verified account': False,\n",
       "  'account': 'GARYLUNZ',\n",
       "  'tweet_id': '1540482476908445696',\n",
       "  'date': 'Fri Jun 24 23:50:17 +0000 2022',\n",
       "  'full_text': 'REMINDER: The world runs on oil and coal. You cannot destroy oil and coal without destroying the world that runs on them.',\n",
       "  'tweet_type': 'Retweet',\n",
       "  'hyperlink': 'https://twitter.com/twitter/status/1540482476908445696'},\n",
       " {'verified account': False,\n",
       "  'account': 'marieberd',\n",
       "  'tweet_id': '1540482060128727041',\n",
       "  'date': 'Fri Jun 24 23:48:38 +0000 2022',\n",
       "  'full_text': 'feeling “safe” in california… the state that kicks poor people out so more rich people can move in… where nancy pelosi officiated an oil baron wedding last year… where the tech companies who already destroyed our right to privacy can kinda just buy laws… couldn’t be me',\n",
       "  'tweet_type': 'Original Tweet',\n",
       "  'hyperlink': 'https://twitter.com/twitter/status/1540482060128727041'},\n",
       " {'verified account': False,\n",
       "  'account': 'jjl_85',\n",
       "  'tweet_id': '1540481913583976452',\n",
       "  'date': 'Fri Jun 24 23:48:03 +0000 2022',\n",
       "  'full_text': 'I know JIF had been recalled recently but the peanut butter shelves have been empty every place I go for weeks now. Had to get some bullshit Smuckers Natural with that oil/water on top 🤢',\n",
       "  'tweet_type': 'Original Tweet',\n",
       "  'hyperlink': 'https://twitter.com/twitter/status/1540481913583976452'},\n",
       " {'verified account': True,\n",
       "  'account': 'MlaStandard',\n",
       "  'tweet_id': '1540481163969662976',\n",
       "  'date': 'Fri Jun 24 23:45:04 +0000 2022',\n",
       "  'full_text': 'President Rodrigo Duterte handled the maritime dispute in the West Philippine Sea “carefully and decisively,” Presidential Communications Secretary Martin Andanar said on Friday, a day after the outgoing Chief Executive also ordered the end of-\\nRead more👇\\nhttps://t.co/MuqPoGrAQY https://t.co/XnmPQeLJaB',\n",
       "  'tweet_type': 'Original Tweet',\n",
       "  'hyperlink': 'https://twitter.com/twitter/status/1540481163969662976'},\n",
       " {'verified account': False,\n",
       "  'account': 'wengcouver',\n",
       "  'tweet_id': '1540481064434634752',\n",
       "  'date': 'Fri Jun 24 23:44:41 +0000 2022',\n",
       "  'full_text': '@VictorY_Wong @charliesmithvcr @kennedystewart What languages do foreign antiVaxxers &amp; energy lobbyists use to sway #Canadians?\\n@christineeboyle @AdrianeCarr @PtFry @MelissaDeGenova @LisaDominato @CllrHardwick\\n@sarahkirby_yung @JeanSwanson_ @councillorwiebe @cityofvancouver @csiscanada @fumano #bcpoli\\nhttps://t.co/Wx9nYkoRN9',\n",
       "  'tweet_type': 'Reply Tweet',\n",
       "  'hyperlink': 'https://twitter.com/twitter/status/1540481064434634752'},\n",
       " {'verified account': False,\n",
       "  'account': '5thSu',\n",
       "  'tweet_id': '1540480249435422720',\n",
       "  'date': 'Fri Jun 24 23:41:26 +0000 2022',\n",
       "  'full_text': 'West buys 60-70% of #Russian gas and oil, but blame #India 12% and #China 20%. https://t.co/Dehww5gu9n',\n",
       "  'tweet_type': 'Original Tweet',\n",
       "  'hyperlink': 'https://twitter.com/twitter/status/1540480249435422720'},\n",
       " {'verified account': False,\n",
       "  'account': 'OccupySchagen',\n",
       "  'tweet_id': '1540480213846528001',\n",
       "  'date': 'Fri Jun 24 23:41:18 +0000 2022',\n",
       "  'full_text': \"Indian Ministry of External affairs has reacted on a possible #Pressure on #India from the #West on India #Importing #Oil from #Russia.\\nMEA set the record #Straight &amp; said that OUR #Energy imports are based on #India's OWN #Energy #Security:\\n\\nhttps://t.co/buJzerxFAs via @YouTube\",\n",
       "  'tweet_type': 'Original Tweet',\n",
       "  'hyperlink': 'https://twitter.com/twitter/status/1540480213846528001'},\n",
       " {'verified account': False,\n",
       "  'account': 'CryptoNDaily',\n",
       "  'tweet_id': '1540478899477422086',\n",
       "  'date': 'Fri Jun 24 23:36:05 +0000 2022',\n",
       "  'full_text': \"MicroStrategy CEO Michael Saylor says he's unfazed by bitcoin's massive sell-off and compares crypto in 2022 to the early days of oil: 'We are witnessing the birth of a new industry' /r/CryptoCurrency https://t.co/gS81vMEano https://t.co/QwetDhp5DF\",\n",
       "  'tweet_type': 'Original Tweet',\n",
       "  'hyperlink': 'https://twitter.com/twitter/status/1540478899477422086'},\n",
       " {'verified account': False,\n",
       "  'account': '21KNation_Army',\n",
       "  'tweet_id': '1540478675501686784',\n",
       "  'date': 'Fri Jun 24 23:35:11 +0000 2022',\n",
       "  'full_text': 'Lucas Oil POWRi National Midget League Hot Lap Times at Lincoln Speedway https://t.co/iNbdJ10xhA',\n",
       "  'tweet_type': 'Retweet',\n",
       "  'hyperlink': 'https://twitter.com/twitter/status/1540478675501686784'},\n",
       " {'verified account': False,\n",
       "  'account': 'daily_stir',\n",
       "  'tweet_id': '1540478552646115328',\n",
       "  'date': 'Fri Jun 24 23:34:42 +0000 2022',\n",
       "  'full_text': 'REMINDER: The world runs on oil and coal. You cannot destroy oil and coal without destroying the world that runs on them.',\n",
       "  'tweet_type': 'Retweet',\n",
       "  'hyperlink': 'https://twitter.com/twitter/status/1540478552646115328'},\n",
       " {'verified account': False,\n",
       "  'account': 'NowMyNews',\n",
       "  'tweet_id': '1540478273754464256',\n",
       "  'date': 'Fri Jun 24 23:33:35 +0000 2022',\n",
       "  'full_text': 'War in Ukraine: The drones that hit the refinery in Russia were allegedly bought on AliExpress\\nhttps://t.co/JtcThCCB9P https://t.co/ULEGW86FP1',\n",
       "  'tweet_type': 'Original Tweet',\n",
       "  'hyperlink': 'https://twitter.com/twitter/status/1540478273754464256'},\n",
       " {'verified account': False,\n",
       "  'account': 'StckPro',\n",
       "  'tweet_id': '1540478147975602179',\n",
       "  'date': 'Fri Jun 24 23:33:05 +0000 2022',\n",
       "  'full_text': '$XLE NEW ARTICLE : Energy stocks continue lower as oil posts weekly loss https://t.co/KGHUm2XYrm Get all the latest $XLE related news here : https://t.co/Mfooxwxp2I',\n",
       "  'tweet_type': 'Original Tweet',\n",
       "  'hyperlink': 'https://twitter.com/twitter/status/1540478147975602179'}]"
      ]
     },
     "execution_count": 186,
     "metadata": {},
     "output_type": "execute_result"
    }
   ],
   "source": [
    "retrieved"
   ]
  },
  {
   "cell_type": "code",
   "execution_count": 163,
   "id": "3268ce93",
   "metadata": {},
   "outputs": [
    {
     "data": {
      "text/plain": [
       "'Retweet'"
      ]
     },
     "execution_count": 163,
     "metadata": {},
     "output_type": "execute_result"
    }
   ],
   "source": [
    "exe_status = _page[40]\n",
    "determine_tweet_type(exe_status._json)"
   ]
  },
  {
   "cell_type": "code",
   "execution_count": 164,
   "id": "07751ec5",
   "metadata": {},
   "outputs": [
    {
     "data": {
      "text/plain": [
       "'retired um pastor, guitar player, nature lover, history buff, and unvaccinated trump supporter!'"
      ]
     },
     "execution_count": 164,
     "metadata": {},
     "output_type": "execute_result"
    }
   ],
   "source": [
    "exe_status.user.description.lower()"
   ]
  },
  {
   "cell_type": "code",
   "execution_count": 142,
   "id": "742e7fe7",
   "metadata": {},
   "outputs": [
    {
     "data": {
      "text/plain": [
       "False"
      ]
     },
     "execution_count": 142,
     "metadata": {},
     "output_type": "execute_result"
    }
   ],
   "source": [
    "exe_status."
   ]
  },
  {
   "cell_type": "code",
   "execution_count": 121,
   "id": "2ef70fb0",
   "metadata": {},
   "outputs": [],
   "source": [
    "api.search_30_day(label = 'GupiaoDev',\n",
    "                  query = \"oil OR refinery\",)"
   ]
  },
  {
   "cell_type": "code",
   "execution_count": 122,
   "id": "07df2b08",
   "metadata": {},
   "outputs": [
    {
     "ename": "TypeError",
     "evalue": "API.search_30_day() missing 2 required positional arguments: 'label' and 'query'",
     "output_type": "error",
     "traceback": [
      "\u001b[0;31m---------------------------------------------------------------------------\u001b[0m",
      "\u001b[0;31mTypeError\u001b[0m                                 Traceback (most recent call last)",
      "Input \u001b[0;32mIn [122]\u001b[0m, in \u001b[0;36m<cell line: 1>\u001b[0;34m()\u001b[0m\n\u001b[0;32m----> 1\u001b[0m tweets \u001b[38;5;241m=\u001b[39m [t \u001b[38;5;28;01mfor\u001b[39;00m t \u001b[38;5;129;01min\u001b[39;00m tweets]\n",
      "Input \u001b[0;32mIn [122]\u001b[0m, in \u001b[0;36m<listcomp>\u001b[0;34m(.0)\u001b[0m\n\u001b[0;32m----> 1\u001b[0m tweets \u001b[38;5;241m=\u001b[39m [t \u001b[38;5;28;01mfor\u001b[39;00m t \u001b[38;5;129;01min\u001b[39;00m tweets]\n",
      "File \u001b[0;32m~/opt/anaconda3/envs/Gupiao/lib/python3.10/site-packages/tweepy/cursor.py:86\u001b[0m, in \u001b[0;36mBaseIterator.__next__\u001b[0;34m(self)\u001b[0m\n\u001b[1;32m     85\u001b[0m \u001b[38;5;28;01mdef\u001b[39;00m \u001b[38;5;21m__next__\u001b[39m(\u001b[38;5;28mself\u001b[39m):\n\u001b[0;32m---> 86\u001b[0m     \u001b[38;5;28;01mreturn\u001b[39;00m \u001b[38;5;28;43mself\u001b[39;49m\u001b[38;5;241;43m.\u001b[39;49m\u001b[43mnext\u001b[49m\u001b[43m(\u001b[49m\u001b[43m)\u001b[49m\n",
      "File \u001b[0;32m~/opt/anaconda3/envs/Gupiao/lib/python3.10/site-packages/tweepy/cursor.py:286\u001b[0m, in \u001b[0;36mItemIterator.next\u001b[0;34m(self)\u001b[0m\n\u001b[1;32m    283\u001b[0m     \u001b[38;5;28;01mraise\u001b[39;00m \u001b[38;5;167;01mStopIteration\u001b[39;00m\n\u001b[1;32m    284\u001b[0m \u001b[38;5;28;01mif\u001b[39;00m \u001b[38;5;28mself\u001b[39m\u001b[38;5;241m.\u001b[39mcurrent_page \u001b[38;5;129;01mis\u001b[39;00m \u001b[38;5;28;01mNone\u001b[39;00m \u001b[38;5;129;01mor\u001b[39;00m \u001b[38;5;28mself\u001b[39m\u001b[38;5;241m.\u001b[39mpage_index \u001b[38;5;241m==\u001b[39m \u001b[38;5;28mlen\u001b[39m(\u001b[38;5;28mself\u001b[39m\u001b[38;5;241m.\u001b[39mcurrent_page) \u001b[38;5;241m-\u001b[39m \u001b[38;5;241m1\u001b[39m:\n\u001b[1;32m    285\u001b[0m     \u001b[38;5;66;03m# Reached end of current page, get the next page...\u001b[39;00m\n\u001b[0;32m--> 286\u001b[0m     \u001b[38;5;28mself\u001b[39m\u001b[38;5;241m.\u001b[39mcurrent_page \u001b[38;5;241m=\u001b[39m \u001b[38;5;28;43mnext\u001b[39;49m\u001b[43m(\u001b[49m\u001b[38;5;28;43mself\u001b[39;49m\u001b[38;5;241;43m.\u001b[39;49m\u001b[43mpage_iterator\u001b[49m\u001b[43m)\u001b[49m\n\u001b[1;32m    287\u001b[0m     \u001b[38;5;28;01mwhile\u001b[39;00m \u001b[38;5;28mlen\u001b[39m(\u001b[38;5;28mself\u001b[39m\u001b[38;5;241m.\u001b[39mcurrent_page) \u001b[38;5;241m==\u001b[39m \u001b[38;5;241m0\u001b[39m:\n\u001b[1;32m    288\u001b[0m         \u001b[38;5;28mself\u001b[39m\u001b[38;5;241m.\u001b[39mcurrent_page \u001b[38;5;241m=\u001b[39m \u001b[38;5;28mnext\u001b[39m(\u001b[38;5;28mself\u001b[39m\u001b[38;5;241m.\u001b[39mpage_iterator)\n",
      "File \u001b[0;32m~/opt/anaconda3/envs/Gupiao/lib/python3.10/site-packages/tweepy/cursor.py:86\u001b[0m, in \u001b[0;36mBaseIterator.__next__\u001b[0;34m(self)\u001b[0m\n\u001b[1;32m     85\u001b[0m \u001b[38;5;28;01mdef\u001b[39;00m \u001b[38;5;21m__next__\u001b[39m(\u001b[38;5;28mself\u001b[39m):\n\u001b[0;32m---> 86\u001b[0m     \u001b[38;5;28;01mreturn\u001b[39;00m \u001b[38;5;28;43mself\u001b[39;49m\u001b[38;5;241;43m.\u001b[39;49m\u001b[43mnext\u001b[49m\u001b[43m(\u001b[49m\u001b[43m)\u001b[49m\n",
      "File \u001b[0;32m~/opt/anaconda3/envs/Gupiao/lib/python3.10/site-packages/tweepy/cursor.py:260\u001b[0m, in \u001b[0;36mNextIterator.next\u001b[0;34m(self)\u001b[0m\n\u001b[1;32m    258\u001b[0m \u001b[38;5;28;01mif\u001b[39;00m \u001b[38;5;28mself\u001b[39m\u001b[38;5;241m.\u001b[39mnext_token \u001b[38;5;241m==\u001b[39m \u001b[38;5;241m-\u001b[39m\u001b[38;5;241m1\u001b[39m \u001b[38;5;129;01mor\u001b[39;00m \u001b[38;5;28mself\u001b[39m\u001b[38;5;241m.\u001b[39mpage_count \u001b[38;5;241m>\u001b[39m\u001b[38;5;241m=\u001b[39m \u001b[38;5;28mself\u001b[39m\u001b[38;5;241m.\u001b[39mlimit:\n\u001b[1;32m    259\u001b[0m     \u001b[38;5;28;01mraise\u001b[39;00m \u001b[38;5;167;01mStopIteration\u001b[39;00m\n\u001b[0;32m--> 260\u001b[0m data \u001b[38;5;241m=\u001b[39m \u001b[38;5;28;43mself\u001b[39;49m\u001b[38;5;241;43m.\u001b[39;49m\u001b[43mmethod\u001b[49m\u001b[43m(\u001b[49m\u001b[38;5;28;43mnext\u001b[39;49m\u001b[38;5;241;43m=\u001b[39;49m\u001b[38;5;28;43mself\u001b[39;49m\u001b[38;5;241;43m.\u001b[39;49m\u001b[43mnext_token\u001b[49m\u001b[43m,\u001b[49m\u001b[43m \u001b[49m\u001b[43mreturn_cursors\u001b[49m\u001b[38;5;241;43m=\u001b[39;49m\u001b[38;5;28;43;01mTrue\u001b[39;49;00m\u001b[43m,\u001b[49m\u001b[43m \u001b[49m\u001b[38;5;241;43m*\u001b[39;49m\u001b[38;5;28;43mself\u001b[39;49m\u001b[38;5;241;43m.\u001b[39;49m\u001b[43margs\u001b[49m\u001b[43m,\u001b[49m\u001b[43m \u001b[49m\u001b[38;5;241;43m*\u001b[39;49m\u001b[38;5;241;43m*\u001b[39;49m\u001b[38;5;28;43mself\u001b[39;49m\u001b[38;5;241;43m.\u001b[39;49m\u001b[43mkwargs\u001b[49m\u001b[43m)\u001b[49m\n\u001b[1;32m    261\u001b[0m \u001b[38;5;28mself\u001b[39m\u001b[38;5;241m.\u001b[39mpage_count \u001b[38;5;241m+\u001b[39m\u001b[38;5;241m=\u001b[39m \u001b[38;5;241m1\u001b[39m\n\u001b[1;32m    262\u001b[0m \u001b[38;5;28;01mif\u001b[39;00m \u001b[38;5;28misinstance\u001b[39m(data, \u001b[38;5;28mtuple\u001b[39m):\n",
      "File \u001b[0;32m~/opt/anaconda3/envs/Gupiao/lib/python3.10/site-packages/tweepy/api.py:33\u001b[0m, in \u001b[0;36mpagination.<locals>.decorator.<locals>.wrapper\u001b[0;34m(*args, **kwargs)\u001b[0m\n\u001b[1;32m     31\u001b[0m \u001b[38;5;129m@functools\u001b[39m\u001b[38;5;241m.\u001b[39mwraps(method)\n\u001b[1;32m     32\u001b[0m \u001b[38;5;28;01mdef\u001b[39;00m \u001b[38;5;21mwrapper\u001b[39m(\u001b[38;5;241m*\u001b[39margs, \u001b[38;5;241m*\u001b[39m\u001b[38;5;241m*\u001b[39mkwargs):\n\u001b[0;32m---> 33\u001b[0m     \u001b[38;5;28;01mreturn\u001b[39;00m \u001b[43mmethod\u001b[49m\u001b[43m(\u001b[49m\u001b[38;5;241;43m*\u001b[39;49m\u001b[43margs\u001b[49m\u001b[43m,\u001b[49m\u001b[43m \u001b[49m\u001b[38;5;241;43m*\u001b[39;49m\u001b[38;5;241;43m*\u001b[39;49m\u001b[43mkwargs\u001b[49m\u001b[43m)\u001b[49m\n",
      "File \u001b[0;32m~/opt/anaconda3/envs/Gupiao/lib/python3.10/site-packages/tweepy/api.py:46\u001b[0m, in \u001b[0;36mpayload.<locals>.decorator.<locals>.wrapper\u001b[0;34m(*args, **kwargs)\u001b[0m\n\u001b[1;32m     44\u001b[0m kwargs[\u001b[38;5;124m'\u001b[39m\u001b[38;5;124mpayload_list\u001b[39m\u001b[38;5;124m'\u001b[39m] \u001b[38;5;241m=\u001b[39m payload_list\n\u001b[1;32m     45\u001b[0m kwargs[\u001b[38;5;124m'\u001b[39m\u001b[38;5;124mpayload_type\u001b[39m\u001b[38;5;124m'\u001b[39m] \u001b[38;5;241m=\u001b[39m payload_type\n\u001b[0;32m---> 46\u001b[0m \u001b[38;5;28;01mreturn\u001b[39;00m \u001b[43mmethod\u001b[49m\u001b[43m(\u001b[49m\u001b[38;5;241;43m*\u001b[39;49m\u001b[43margs\u001b[49m\u001b[43m,\u001b[49m\u001b[43m \u001b[49m\u001b[38;5;241;43m*\u001b[39;49m\u001b[38;5;241;43m*\u001b[39;49m\u001b[43mkwargs\u001b[49m\u001b[43m)\u001b[49m\n",
      "\u001b[0;31mTypeError\u001b[0m: API.search_30_day() missing 2 required positional arguments: 'label' and 'query'"
     ]
    }
   ],
   "source": [
    "tweets = [t for t in tweets]"
   ]
  },
  {
   "cell_type": "code",
   "execution_count": 106,
   "id": "12629c63",
   "metadata": {},
   "outputs": [],
   "source": [
    "result = []\n",
    "for tweet in tweets:\n",
    "    user = tweet.user\n",
    "    if 'news' in user.description:\n",
    "        result.append(tweet)"
   ]
  },
  {
   "cell_type": "code",
   "execution_count": 107,
   "id": "49bc0f4d",
   "metadata": {},
   "outputs": [
    {
     "data": {
      "text/plain": [
       "[]"
      ]
     },
     "execution_count": 107,
     "metadata": {},
     "output_type": "execute_result"
    }
   ],
   "source": [
    "tw.Cursor()"
   ]
  },
  {
   "cell_type": "code",
   "execution_count": 95,
   "id": "4bfcfdcd",
   "metadata": {},
   "outputs": [
    {
     "data": {
      "text/plain": [
       "'https://marketscafe.com'"
      ]
     },
     "execution_count": 95,
     "metadata": {},
     "output_type": "execute_result"
    }
   ],
   "source": [
    "twe.source_url"
   ]
  },
  {
   "cell_type": "code",
   "execution_count": null,
   "id": "1b20900e",
   "metadata": {},
   "outputs": [],
   "source": []
  }
 ],
 "metadata": {
  "kernelspec": {
   "display_name": "Python 3 (ipykernel)",
   "language": "python",
   "name": "python3"
  },
  "language_info": {
   "codemirror_mode": {
    "name": "ipython",
    "version": 3
   },
   "file_extension": ".py",
   "mimetype": "text/x-python",
   "name": "python",
   "nbconvert_exporter": "python",
   "pygments_lexer": "ipython3",
   "version": "3.10.4"
  }
 },
 "nbformat": 4,
 "nbformat_minor": 5
}
